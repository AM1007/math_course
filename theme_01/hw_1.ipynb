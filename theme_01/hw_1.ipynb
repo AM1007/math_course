{
  "nbformat": 4,
  "nbformat_minor": 0,
  "metadata": {
    "colab": {
      "provenance": [],
      "collapsed_sections": [
        "mbmam7xBKWRj"
      ]
    },
    "kernelspec": {
      "name": "python3",
      "display_name": "Python 3"
    },
    "language_info": {
      "name": "python"
    }
  },
  "cells": [
    {
      "cell_type": "markdown",
      "source": [
        "# Нагадування по Markdown"
      ],
      "metadata": {
        "id": "mbmam7xBKWRj"
      }
    },
    {
      "cell_type": "markdown",
      "source": [
        "Надаємо невелике нагадування записів в\n",
        "[Markdown](https://colab.research.google.com/notebooks/markdown_guide.ipynb) (LaTeX):\n",
        "\n",
        "Markdown | Preview\n",
        "--- | ---\n",
        "`**bold text**` | **bold text**\n",
        " \\\\$\\frac{x}{y}\\\\$ | $\\frac{x}{y}$\n",
        " \\\\$p^{x}_{y}\\\\$ | $p^{x}_{y}$\n",
        "\\\\$x \\cdot y\\\\$ | $x \\cdot y$\n",
        "\\\\$\\sqrt{x}\\\\$ | $\\sqrt{x}$\n",
        "\\\\$\\pi\\\\$ | $\\pi$\n",
        "\\\\$\\approx\\\\$ | $\\approx$\n",
        "\n",
        "І ще декілька прикладів:\n",
        "\n",
        "```markdown\n",
        "$y=x^2$\n",
        "\n",
        "$e^{i\\pi} + 1 = 0$\n",
        "\n",
        "$e^x=\\sum_{i=0}^\\infty \\frac{1}{i!}x^i$\n",
        "\n",
        "$\\frac{n!}{k!(n-k)!} = {n \\choose k}$\n",
        "\n",
        "$A_{m,n} =\n",
        " \\begin{pmatrix}\n",
        "  a_{1,1} & a_{1,2} & \\cdots & a_{1,n} \\\\\n",
        "  a_{2,1} & a_{2,2} & \\cdots & a_{2,n} \\\\\n",
        "  \\vdots  & \\vdots  & \\ddots & \\vdots  \\\\\n",
        "  a_{m,1} & a_{m,2} & \\cdots & a_{m,n}\n",
        " \\end{pmatrix}$\n",
        "\n",
        " $$\n",
        " I =\n",
        " \\left (\\begin{array}{cc}\n",
        " 1 & 0\\\\\n",
        " 0 & 1\n",
        " \\end{array}\\right)\n",
        " $$\n",
        "```\n",
        "\n",
        "$y=x^2$\n",
        "\n",
        "$e^{i\\pi} + 1 = 0$\n",
        "\n",
        "$e^x=\\sum_{i=0}^\\infty \\frac{1}{i!}x^i$\n",
        "\n",
        "$\\frac{n!}{k!(n-k)!} = {n \\choose k}$\n",
        "\n",
        "$A_{m,n} =\n",
        " \\begin{pmatrix}\n",
        "  a_{1,1} & a_{1,2} & \\cdots & a_{1,n} \\\\\n",
        "  a_{2,1} & a_{2,2} & \\cdots & a_{2,n} \\\\\n",
        "  \\vdots  & \\vdots  & \\ddots & \\vdots  \\\\\n",
        "  a_{m,1} & a_{m,2} & \\cdots & a_{m,n}\n",
        " \\end{pmatrix}$\n",
        "\n",
        "$I =\n",
        "\\left (\\begin{array}{cc}\n",
        "1 & 0\\\\\n",
        "0 & 1\n",
        "\\end{array}\\right)$\n",
        " ---"
      ],
      "metadata": {
        "id": "WKbf0DcrKYHi"
      }
    },
    {
      "cell_type": "markdown",
      "source": [
        "# Завдання 1.\n",
        "В шаблоні наведені числові вектори $\\overline{a}$ та $\\overline{b}$. Порахуй наступне:\n",
        "- сума $\\overline{a}$ та $\\overline{b}$\n",
        "- різниця $\\overline{a}$ та $\\overline{b}$\n",
        "- сума $\\overline{a}$ та $\\overline{b}^T$. Поясни отриманий результат.\n",
        "- матричний добуток (dot product) $\\overline{a}$ та $\\overline{b}^T$.\n",
        "- матричний добуток (dot product) $\\overline{a}$ та $\\overline{b}$. Поясни отриманий результат.\n",
        "- добуток Адамара (Hadamard product) $\\overline{a}$ та $\\overline{b}$. Поясни отриманий результат.\n",
        "- ділення $\\overline{a}$ та $\\overline{b}$. Поясни отриманий результат.\n",
        "- ділення $\\overline{a}$ та $\\overline{b}^T$. Поясни отриманий результат."
      ],
      "metadata": {
        "id": "AQsl6FeF0Sq3"
      }
    },
    {
      "cell_type": "code",
      "source": [
        "import numpy as np\n",
        "# Код оголошення векторів не можна змінювати\n",
        "a = np.array([[1, 2, 3, 4, 5]])\n",
        "b = np.array([[1/2, 1, 2, 3, 4]])"
      ],
      "metadata": {
        "id": "x_pAAV5I0Rqg"
      },
      "execution_count": null,
      "outputs": []
    },
    {
      "cell_type": "code",
      "source": [
        "res = np.add(a, b)\n",
        "res"
      ],
      "metadata": {
        "id": "-TcDgKRB0n-s",
        "colab": {
          "base_uri": "https://localhost:8080/"
        },
        "outputId": "dcbe501c-e603-4751-c07c-a95e156359e2"
      },
      "execution_count": null,
      "outputs": [
        {
          "output_type": "execute_result",
          "data": {
            "text/plain": [
              "array([[1.5, 3. , 5. , 7. , 9. ]])"
            ]
          },
          "metadata": {},
          "execution_count": 22
        }
      ]
    },
    {
      "cell_type": "code",
      "source": [
        "res = np.subtract(a, b)\n",
        "res"
      ],
      "metadata": {
        "id": "CcIk7MVQ1xgq",
        "colab": {
          "base_uri": "https://localhost:8080/"
        },
        "outputId": "2d62a30c-6786-4ad4-ac03-8354d61e5a5e"
      },
      "execution_count": null,
      "outputs": [
        {
          "output_type": "execute_result",
          "data": {
            "text/plain": [
              "array([[0.5, 1. , 1. , 1. , 1. ]])"
            ]
          },
          "metadata": {},
          "execution_count": 23
        }
      ]
    },
    {
      "cell_type": "code",
      "source": [
        "# Пояснення: Ми взяли кожен елемент з першого вектора і додали його до відповідного елемента другого вектора, який транспонували.\n",
        "res = np.add(a, b.T)\n",
        "res"
      ],
      "metadata": {
        "id": "exb6q60N0uFv",
        "colab": {
          "base_uri": "https://localhost:8080/"
        },
        "outputId": "5e66ffa2-6b8a-4af0-8b27-585303b907f4"
      },
      "execution_count": null,
      "outputs": [
        {
          "output_type": "execute_result",
          "data": {
            "text/plain": [
              "array([[1.5, 2.5, 3.5, 4.5, 5.5],\n",
              "       [2. , 3. , 4. , 5. , 6. ],\n",
              "       [3. , 4. , 5. , 6. , 7. ],\n",
              "       [4. , 5. , 6. , 7. , 8. ],\n",
              "       [5. , 6. , 7. , 8. , 9. ]])"
            ]
          },
          "metadata": {},
          "execution_count": 24
        }
      ]
    },
    {
      "cell_type": "code",
      "source": [
        "res = np.dot(a, b.T)\n",
        "res"
      ],
      "metadata": {
        "id": "oZB7Kx5_1c29",
        "colab": {
          "base_uri": "https://localhost:8080/"
        },
        "outputId": "d0be0e6d-d6dd-453e-e0bb-42c2c7c973a0"
      },
      "execution_count": null,
      "outputs": [
        {
          "output_type": "execute_result",
          "data": {
            "text/plain": [
              "array([[40.5]])"
            ]
          },
          "metadata": {},
          "execution_count": 11
        }
      ]
    },
    {
      "cell_type": "code",
      "source": [
        "# Пояснення: Результат однаковий тому що вектор b і його транспонований вектор b^T є одним і тим же вектором у різних орієнтаціях.\n",
        "res = np.dot(a, b.T)\n",
        "res"
      ],
      "metadata": {
        "id": "PbRyd3630xud",
        "colab": {
          "base_uri": "https://localhost:8080/"
        },
        "outputId": "3e9fda72-78e1-4d70-adcc-b458d290b2b9"
      },
      "execution_count": null,
      "outputs": [
        {
          "output_type": "execute_result",
          "data": {
            "text/plain": [
              "array([[40.5]])"
            ]
          },
          "metadata": {},
          "execution_count": 14
        }
      ]
    },
    {
      "cell_type": "code",
      "source": [
        "# Пояснення: для отримання добутку Адамара, ми перемножуємо кожне число з першого ряду з відповідним числом з другого ряду\n",
        "res = np.multiply(a, b)\n",
        "res"
      ],
      "metadata": {
        "id": "QPHTXr83ly7o",
        "colab": {
          "base_uri": "https://localhost:8080/"
        },
        "outputId": "95ea4909-820a-4003-ec20-186e0d183662"
      },
      "execution_count": null,
      "outputs": [
        {
          "output_type": "execute_result",
          "data": {
            "text/plain": [
              "array([[ 0.5,  2. ,  6. , 12. , 20. ]])"
            ]
          },
          "metadata": {},
          "execution_count": 15
        }
      ]
    },
    {
      "cell_type": "code",
      "source": [
        "# Пояснення: Кожен елемент матриці a ділиться на відповідний елемент матриці b.\n",
        "res = np.divide(a, b)\n",
        "res"
      ],
      "metadata": {
        "id": "9mAIEbkQ1pJH",
        "colab": {
          "base_uri": "https://localhost:8080/"
        },
        "outputId": "d206e71f-fb35-4c21-da9b-eec51f19f71a"
      },
      "execution_count": null,
      "outputs": [
        {
          "output_type": "execute_result",
          "data": {
            "text/plain": [
              "array([[2.        , 2.        , 1.5       , 1.33333333, 1.25      ]])"
            ]
          },
          "metadata": {},
          "execution_count": 25
        }
      ]
    },
    {
      "cell_type": "code",
      "source": [
        "# Пояснення: В даному випадку відбулося розширення матриць до однакової розмірності завдяки правилам мовлення в NumPy.\n",
        "res = np.divide(a, b.T)\n",
        "res"
      ],
      "metadata": {
        "id": "pozfWRdc1qF9",
        "colab": {
          "base_uri": "https://localhost:8080/"
        },
        "outputId": "49e91f73-1618-4f93-e38a-bc2d86b70e66"
      },
      "execution_count": null,
      "outputs": [
        {
          "output_type": "execute_result",
          "data": {
            "text/plain": [
              "array([[ 2.        ,  4.        ,  6.        ,  8.        , 10.        ],\n",
              "       [ 1.        ,  2.        ,  3.        ,  4.        ,  5.        ],\n",
              "       [ 0.5       ,  1.        ,  1.5       ,  2.        ,  2.5       ],\n",
              "       [ 0.33333333,  0.66666667,  1.        ,  1.33333333,  1.66666667],\n",
              "       [ 0.25      ,  0.5       ,  0.75      ,  1.        ,  1.25      ]])"
            ]
          },
          "metadata": {},
          "execution_count": 26
        }
      ]
    },
    {
      "cell_type": "markdown",
      "source": [
        "# Завдання 2\n",
        "В цьому завданні ти навчишся перетворювати вектори за допомогою афінних перетворень.  \n",
        "Дано вектор:\n",
        "$$\n",
        "x =\n",
        "\\left(\\begin{array}{cc}\n",
        "2\\\\\n",
        "1\n",
        "\\end{array}\\right)\n",
        "$$\n",
        "\n",
        "\n",
        "Виконай аналітично наступні завдання задавши матрицю перетворення та застосуй її до вектора $x$:\n",
        "\n",
        "1. Зменши вектор $x$ в 2 рази по вісі $OX$ та збільш в 3 рази по вісі $OY$.\n",
        "2. Відобрази вектор $x$ відносно початку координат.\n",
        "3. Перенеси вектор $x$ на -3 по вісі $OX$ та на 1 по вісі $OY$.\n",
        "4. Змісти вектор $x$ на 60° по вісі $OY$.\n",
        "5. Поверни вектор $x$ на 30°.\n",
        "6. Об'єднай перетворення з кроків 1, 2, 4, 5 в одну матрицю та застосуй її до вектору $x$."
      ],
      "metadata": {
        "id": "W-FFJ2oK0TTF"
      }
    },
    {
      "cell_type": "markdown",
      "source": [],
      "metadata": {
        "id": "coRcpu8kgMqh"
      }
    },
    {
      "cell_type": "markdown",
      "source": [],
      "metadata": {
        "id": "6gaF0R0O9UwN"
      }
    },
    {
      "cell_type": "markdown",
      "source": [
        "#### 2.1 Зменши вектор  $x$  в 2 рази по вісі  OX  та збільш в 3 рази по вісі  OY ."
      ],
      "metadata": {
        "id": "6G4BWKMB33NV"
      }
    },
    {
      "cell_type": "markdown",
      "source": [
        "$$\n",
        "M_1 =\n",
        "\\left (\\begin{array}{cc}\n",
        "\\frac{1}{2} & 0\\\\\n",
        "0 & 3\n",
        "\\end{array}\\right)\n",
        "$$\n",
        "\n",
        "$$\n",
        "M_1x =\n",
        "\\left(\\begin{array}{cc}\n",
        "\\frac{1}{2} & 0\\\\\n",
        "0 & 3\n",
        "\\end{array}\\right) \\cdot\n",
        "\\left (\\begin{array}{cc}\n",
        "2\\\\\n",
        "1\n",
        "\\end{array}\\right)=\n",
        "\\left(\\begin{array}{cc}\n",
        "\\frac{1}{2} \\cdot 2 + 0 \\cdot 1\\\\\n",
        "0 \\cdot 2 + 3 \\cdot 1\n",
        "\\end{array}\\right)=\n",
        "\\left(\\begin{array}{cc}\n",
        "1\\\\\n",
        "3\n",
        "\\end{array}\\right)\n",
        "$$"
      ],
      "metadata": {
        "id": "_BvcoZCyg8nk"
      }
    },
    {
      "cell_type": "markdown",
      "source": [
        "#### 2.2 Відобрази вектор $x$ відносно початку координат."
      ],
      "metadata": {
        "id": "Rlhpc8-24M9k"
      }
    },
    {
      "cell_type": "markdown",
      "source": [
        "$$\n",
        "M_2 = \\left (\\begin{array}{cc}\n",
        "-1 & 0\\\\\n",
        "0 & -1\n",
        "\\end{array}\\right)\n",
        "\\\\\n",
        "M_2x = \\left(\\begin{array}{cc}\n",
        "-1 & 0\\\\\n",
        "0 & -1\n",
        "\\end{array}\\right) ⋅\n",
        "\\left (\\begin{array}{cc}\n",
        "2\\\\\n",
        "1\n",
        "\\end{array}\\right)=\n",
        "\\left(\\begin{array}{cc}\n",
        "-1 \\cdot 2 + 0 \\cdot 1\\\\\n",
        "0 \\cdot 2 + -1 \\cdot 1\n",
        "\\end{array}\\right)=\n",
        "\\left(\\begin{array}{cc}\n",
        "-2\\\\\n",
        "-1\n",
        "\\end{array}\\right)\n",
        "$$"
      ],
      "metadata": {
        "id": "35Ld0CHYgsXY"
      }
    },
    {
      "cell_type": "markdown",
      "source": [
        "#### 2.3 Перенеси вектор $x$ на -3 по вісі $OX$ та на 1 по вісі $OY$."
      ],
      "metadata": {
        "id": "V5AiNUx14MvZ"
      }
    },
    {
      "cell_type": "markdown",
      "source": [
        "$$\n",
        "M_3 = \\left (\\begin{array}{cc}\n",
        "1 & 0\\\\\n",
        "0 & 1\n",
        "\\end{array}\\right)\n",
        "\\\\\n",
        "M_3x = x + d = \\left(\\begin{array}{cc}\n",
        "2 \\\\\n",
        "1\n",
        "\\end{array}\\right) +\n",
        "\\left (\\begin{array}{cc}\n",
        "-3\\\\\n",
        "1\n",
        "\\end{array}\\right)=\n",
        "\\left(\\begin{array}{cc}\n",
        "2 + (-3) \\\\\n",
        "1 + 1\n",
        "\\end{array}\\right)=\n",
        "\\left(\\begin{array}{cc}\n",
        "-1\\\\\n",
        "2\n",
        "\\end{array}\\right)\n",
        "$$"
      ],
      "metadata": {
        "id": "qtzBmsNcgpQA"
      }
    },
    {
      "cell_type": "markdown",
      "source": [
        "#### 2.4 Змісти вектор $x$ на 60° по вісі $OY$.\n"
      ],
      "metadata": {
        "id": "VfjTQ4li9Neq"
      }
    },
    {
      "cell_type": "markdown",
      "source": [
        "$$\n",
        "M_4 =  \\left (\\begin{array}{cc}\n",
        "cos(60^o) & -sin(60^o)\\\\\n",
        "sin(60^o) & cos(60^o)\n",
        "\\end{array}\\right) =\n",
        "\\left (\\begin{array}{cc}\n",
        "\\frac{1}{2} & -\\frac{\\sqrt{3}}{2}\\\\\n",
        "\\frac{\\sqrt{3}}{2} & \\frac{1}{2}\n",
        "\\end{array}\\right)\n",
        "\\\\\n",
        "M_4x = \\left (\\begin{array}{cc}\n",
        "\\frac{1}{2} & -\\frac{\\sqrt{3}}{2}\\\\\n",
        "\\frac{\\sqrt{3}}{2} & \\frac{1}{2}\n",
        "\\end{array}\\right) \\cdot\n",
        "\\left(\\begin{array}{cc}\n",
        "2 \\\\\n",
        "1\n",
        "\\end{array}\\right)\n",
        "= \\left(\\begin{array}{cc}\n",
        "\\frac{1}{2} \\cdot 2 + (- \\frac{\\sqrt{3}}{2}) \\cdot 1  \n",
        "\\\\\n",
        "\\frac{\\sqrt{3}}{2} \\cdot 2 + \\frac{1}{2} \\cdot 1\n",
        "\\end{array}\\right) = \\left(\\begin{array}{cc}\n",
        "1 - \\frac{\\sqrt{3}}{2} \\\\\n",
        "\\sqrt{3} + \\frac{1}{2}\n",
        "\\end{array}\\right)\n",
        "$$"
      ],
      "metadata": {
        "id": "1-0_aTZiglze"
      }
    },
    {
      "cell_type": "markdown",
      "source": [
        "#### 2.5 Поверни вектор $x$ на 30°."
      ],
      "metadata": {
        "id": "F5dbVgGr9RCD"
      }
    },
    {
      "cell_type": "markdown",
      "source": [
        "$$\n",
        "M_5 = \\left (\\begin{array}{cc}\n",
        "cos(30^o) & -sin(30^o)\\\\\n",
        "sin(30^o) & cos(30^o)\n",
        "\\end{array}\\right) =\n",
        "\\left(\\begin{array}{cc}\n",
        "\\frac{\\sqrt{3}}{2} & - \\frac{1}{2}\n",
        "\\\\\n",
        "\\frac{1}{2} & \\frac{\\sqrt{3}}{2}\n",
        "\\end{array}\\right)\n",
        "\\\\\n",
        "M_5x =\n",
        "\\left(\\begin{array}{cc}\n",
        "\\frac{\\sqrt{3}}{2} - \\frac{1}{2} \\\\\n",
        "\\frac{1}{2} + \\frac{\\sqrt{3}}{2}\n",
        "\\end{array}\\right)\n",
        "\\cdot\n",
        " \\left(\\begin{array}{cc}\n",
        "2 \\\\\n",
        "1\n",
        "\\end{array}\\right)\n",
        "=\n",
        "\\left(\\begin{array}{cc}\n",
        "\\frac{\\sqrt{3}}{2} \\cdot 2 + (- \\frac{1}{2}) \\cdot 1  \n",
        "\\\\\n",
        "\\frac{1}{2} \\cdot 2 + \\frac{\\sqrt{3}}{2} \\cdot 1\n",
        "\\end{array}\\right)\n",
        "= \\left(\\begin{array}{cc}\n",
        "\\sqrt{3} - \\frac{1}{2} \\\\\n",
        "1 + \\frac{\\sqrt{3}}{2}\n",
        "\\end{array}\\right)\n",
        "$$"
      ],
      "metadata": {
        "id": "ABCk4cPhg2Zp"
      }
    },
    {
      "cell_type": "markdown",
      "source": [
        "#### 2.6 Об'єднай перетворення з кроків 1, 2, 4, 5 в одну матрицю та застосуй її до вектору $x$."
      ],
      "metadata": {
        "id": "nXJQVzee9RTp"
      }
    },
    {
      "cell_type": "markdown",
      "source": [],
      "metadata": {
        "id": "uPsDTTz8Z9ki"
      }
    },
    {
      "cell_type": "markdown",
      "source": [
        "$$\n",
        "M_6 = M_5 \\cdot (M_4 \\cdot (M_2 \\cdot M_1))\n",
        "$$\n",
        "\n",
        "$$\n",
        "M_1 \\cdot M_2   =\n",
        "\\left (\\begin{array}{cc}\n",
        "\\frac{1}{2} & 0\\\\\n",
        "0 & 3\n",
        "\\end{array}\\right)\n",
        "\\cdot\n",
        "\\left (\\begin{array}{cc}\n",
        "-1 & 0\\\\\n",
        "0 & -1\n",
        "\\end{array}\\right) =\n",
        " \\left (\\begin{array}{cc}\n",
        "- \\frac{1}{2} & 0\\\\\n",
        "0 & -3\n",
        "\\end{array}\\right)\n",
        "$$\n",
        "\n",
        "$$\n",
        "M_4 \\cdot (M_1 \\cdot M_2) =  \\left (\\begin{array}{cc}\n",
        "\\frac{1}{2} & -\\frac{\\sqrt{3}}{2}\\\\\n",
        "\\frac{\\sqrt{3}}{2} & \\frac{1}{2}\n",
        "\\end{array}\\right)\n",
        "\\cdot\n",
        "\\left (\\begin{array}{cc}\n",
        "- \\frac{1}{2} & 0\\\\\n",
        "0 & -3\n",
        "\\end{array}\\right) =  \n",
        "\\left (\\begin{array}{cc}\n",
        "-\\frac{\\sqrt{3}}{4} & \\frac{3}{2}\\\\\n",
        "\\frac{3\\sqrt{3}}{2} & -\\frac{3}{4}\n",
        "\\end{array}\\right)\n",
        "$$\n",
        "\n",
        "$$\n",
        "M_6 = M_5 \\cdot (M_4 \\cdot (M_1 \\cdot M_2)) =  \\left(\\begin{array}{cc}\n",
        "\\frac{\\sqrt{3}}{2} & - \\frac{1}{2}\n",
        "\\\\\n",
        "\\frac{1}{2} & \\frac{\\sqrt{3}}{2}\n",
        "\\end{array}\\right)\n",
        "\\cdot\n",
        "\\left (\\begin{array}{cc}\n",
        "-\\frac{\\sqrt{3}}{4} & \\frac{3}{2}\\\\\n",
        "\\frac{3\\sqrt{3}}{2} & -\\frac{3}{4}\n",
        "\\end{array}\\right) =  \n",
        "\\left (\\begin{array}{cc}\n",
        "\\sqrt{3} & -\\frac{1}{2}\\\\\n",
        "1 + \\frac{\\sqrt{3}}{2} & -\\frac{1}{2}\n",
        "\\end{array}\\right)\n",
        "$$"
      ],
      "metadata": {
        "id": "NzEYWaaZHUGm"
      }
    },
    {
      "cell_type": "markdown",
      "source": [
        "$$\n",
        "M_6x = \\left (\\begin{array}{cc}\n",
        "\\sqrt{3} & -\\frac{1}{2}\\\\\n",
        "1 + \\frac{\\sqrt{3}}{2} & -\\frac{1}{2}\n",
        "\\end{array}\\right) \\cdot\n",
        "\\left(\\begin{array}{cc}\n",
        "2\\\\\n",
        "1\n",
        "\\end{array}\\right) =\n",
        "\\left(\\begin{array}{cc}\n",
        "2\\sqrt{3} - \\frac{1}{2}\\\\\n",
        "3 + \\sqrt{3}\n",
        "\\end{array}\\right)\n",
        "$$"
      ],
      "metadata": {
        "id": "483K8PxWY0Na"
      }
    },
    {
      "cell_type": "markdown",
      "source": [
        "# Завдання 2 (Альтернативне)"
      ],
      "metadata": {
        "id": "4Hskh6fFb89N"
      }
    },
    {
      "cell_type": "code",
      "source": [
        "import cv2\n",
        "import urllib.request\n",
        "import numpy as np\n",
        "from google.colab.patches import cv2_imshow as cv_imshow\n",
        "\n",
        "# Read an image\n",
        "def read_image_by_url(url):\n",
        "    req = urllib.request.urlopen(url)\n",
        "    arr = np.asarray(bytearray(req.read()), dtype=np.uint8)\n",
        "    img = cv.imdecode(arr, -1)\n",
        "    return img\n",
        "\n",
        "url = 'https://res.cloudinary.com/df0xlsujs/image/upload/v1717365836/Math/math_short_scf91w.jpg'\n",
        "\n",
        "img = read_image_by_url(url)\n",
        "rows, cols, _ = img.shape"
      ],
      "metadata": {
        "id": "T9X-m9XvdlPK"
      },
      "execution_count": 56,
      "outputs": []
    },
    {
      "cell_type": "code",
      "source": [
        "cv_imshow(img)"
      ],
      "metadata": {
        "id": "3oDsfgd25Rx7",
        "colab": {
          "base_uri": "https://localhost:8080/",
          "height": 187
        },
        "outputId": "17cf708c-c269-4c6b-d5b1-5c7128b762a0"
      },
      "execution_count": 15,
      "outputs": [
        {
          "output_type": "display_data",
          "data": {
            "text/plain": [
              "<PIL.Image.Image image mode=RGB size=300x170>"
            ],
            "image/png": "[encoded data removed]"
          },
          "metadata": {}
        }
      ]
    },
    {
      "cell_type": "code",
      "source": [
        "#1) Зменш вектор 𝑥 в 2 рази по осі 𝑂𝑋 та збільши в 3 рази по вісі 𝑂𝑌\n",
        "scale = np.float32([[0.5, 0, 0], [0, 3, 0], [0, 0, 1]])\n",
        "transformed_img = cv2.warpPerspective(img, scale, (cols // 2, rows * 3))\n",
        "cv_imshow(transformed_img)"
      ],
      "metadata": {
        "colab": {
          "base_uri": "https://localhost:8080/",
          "height": 527
        },
        "id": "uloTp9YoYYyl",
        "outputId": "a6d224d5-f74f-486f-a6b5-c9f75cc7e36b"
      },
      "execution_count": 70,
      "outputs": [
        {
          "output_type": "display_data",
          "data": {
            "text/plain": [
              "<PIL.Image.Image image mode=RGB size=150x510>"
            ],
            "image/png": "[encoded data removed]"
          },
          "metadata": {}
        }
      ]
    },
    {
      "cell_type": "code",
      "source": [
        "#2) Відобрази вектор 𝑥 відносно початку координат\n",
        "scale = np.float32([[-1, 0, cols], [0, -1, rows], [0, 0, 1]])\n",
        "reflected_img = cv2.warpPerspective(img, scale, (cols, rows))\n",
        "cv_imshow(reflected_img)"
      ],
      "metadata": {
        "colab": {
          "base_uri": "https://localhost:8080/",
          "height": 187
        },
        "id": "r0CW0hhta41R",
        "outputId": "ea1367d5-1fdd-46f2-b3f2-42e9d2f8410e"
      },
      "execution_count": 67,
      "outputs": [
        {
          "output_type": "display_data",
          "data": {
            "text/plain": [
              "<PIL.Image.Image image mode=RGB size=300x170>"
            ],
            "image/png": "[encoded data removed]"
          },
          "metadata": {}
        }
      ]
    },
    {
      "cell_type": "code",
      "source": [
        "#3) Перенос вектора на -3 по вісі 𝑂𝑋 та на 1 по вісі 𝑂𝑌\n",
        "shift_matrix = np.float32([[1, 0, -3], [0, 1, 1], [0, 0, 1]])\n",
        "transformed_img = cv2.warpPerspective(img, shift_matrix, (cols, rows))\n",
        "cv_imshow(transformed_img)"
      ],
      "metadata": {
        "colab": {
          "base_uri": "https://localhost:8080/",
          "height": 187
        },
        "id": "kC_SFmN7iPed",
        "outputId": "d7e89cce-9c07-4727-ab13-9f9bd6fa276f"
      },
      "execution_count": 71,
      "outputs": [
        {
          "output_type": "display_data",
          "data": {
            "text/plain": [
              "<PIL.Image.Image image mode=RGB size=300x170>"
            ],
            "image/png": "[encoded data removed]"
          },
          "metadata": {}
        }
      ]
    },
    {
      "cell_type": "code",
      "source": [
        "#4) Зсув вектору 𝑥 на 60° по вісі 𝑂𝑌\n",
        "angle = np.deg2rad(60)\n",
        "rotation_matrix = np.float32([[np.cos(angle), 0, -np.sin(angle)], [0, 1, 0], [np.sin(angle), 0, np.cos(angle)]])\n",
        "transformed_img = cv2.warpPerspective(img, rotation_matrix, (cols, rows))\n",
        "cv_imshow(transformed_img)"
      ],
      "metadata": {
        "colab": {
          "base_uri": "https://localhost:8080/",
          "height": 187
        },
        "id": "JzDJfGUKkrau",
        "outputId": "4f0208b7-7059-471d-c992-d148028e9d6d"
      },
      "execution_count": 82,
      "outputs": [
        {
          "output_type": "display_data",
          "data": {
            "text/plain": [
              "<PIL.Image.Image image mode=RGB size=300x170>"
            ],
            "image/png": "[encoded data removed]"
          },
          "metadata": {}
        }
      ]
    },
    {
      "cell_type": "code",
      "source": [
        "#5) Поворот вектору 𝑥 на 30°\n",
        "angle = np.deg2rad(30)\n",
        "rotation_matrix = np.float32([[np.cos(angle), -np.sin(angle), 0], [np.sin(angle), np.cos(angle), 0], [0, 0, 1]])\n",
        "transformed_img = cv2.warpPerspective(img, rotation_matrix, (cols, rows))\n",
        "cv_imshow(transformed_img)"
      ],
      "metadata": {
        "colab": {
          "base_uri": "https://localhost:8080/",
          "height": 187
        },
        "id": "HzUJC0KEmUf4",
        "outputId": "3f98a19e-412a-4b34-ae9b-150e6d7149e4"
      },
      "execution_count": 83,
      "outputs": [
        {
          "output_type": "display_data",
          "data": {
            "text/plain": [
              "<PIL.Image.Image image mode=RGB size=300x170>"
            ],
            "image/png": "[encoded data removed]"
          },
          "metadata": {}
        }
      ]
    },
    {
      "cell_type": "code",
      "source": [
        "#6) Об'єднання кроків 1, 2, 4, 5\n",
        "# Кутові значення для обертання та зсуву\n",
        "angle_rotation = np.deg2rad(30)\n",
        "angle_shift = np.deg2rad(60)\n",
        "\n",
        "# Створення матриці перспективного перетворення для зменшення та збільшення\n",
        "scale_matrix = np.float32([[0.5, 0, 0], [0, 3, 0], [0, 0, 1]])\n",
        "\n",
        "# Створення матриці перспективного перетворення для відображення відносно початку координат\n",
        "shift_matrix = np.float32([[1, 0, 0], [0, 1, 0], [0, 0, 1]])\n",
        "\n",
        "# Зсув матриці перспективного перетворення на 60° по осі OY\n",
        "shift_matrix[0, 2] = -cols * np.sin(angle_shift)\n",
        "\n",
        "# Створення матриці перспективного перетворення для повороту на 30°\n",
        "rotation_matrix = np.float32([[np.cos(angle_rotation), -np.sin(angle_rotation), 0],\n",
        "                              [np.sin(angle_rotation), np.cos(angle_rotation), 0],\n",
        "                              [0, 0, 1]])\n",
        "\n",
        "# Комбінація всіх матриць перетворень\n",
        "combined_matrix = np.matmul(rotation_matrix, np.matmul(shift_matrix, scale_matrix))\n",
        "\n",
        "# Застосування перспективного перетворення\n",
        "transformed_img = cv2.warpPerspective(img, combined_matrix, (cols, rows))\n",
        "\n",
        "# Відображення трансформованого зображення\n",
        "cv_imshow(transformed_img)\n"
      ],
      "metadata": {
        "colab": {
          "base_uri": "https://localhost:8080/",
          "height": 187
        },
        "id": "_XTFbEdbm6J5",
        "outputId": "6cb97df7-3c2e-448c-e2dc-b3a2e3b185e3"
      },
      "execution_count": 84,
      "outputs": [
        {
          "output_type": "display_data",
          "data": {
            "text/plain": [
              "<PIL.Image.Image image mode=RGB size=300x170>"
            ],
            "image/png": "[encoded data removed]"
          },
          "metadata": {}
        }
      ]
    }
  ]
}