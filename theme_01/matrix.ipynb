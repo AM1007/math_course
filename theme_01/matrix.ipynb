{
 "cells": [
  {
   "cell_type": "code",
   "execution_count": null,
   "id": "0933fef7-7415-45e1-808f-458fd0a00c14",
   "metadata": {
    "tags": []
   },
   "outputs": [],
   "source": [
    "#Встaновити numpy\n",
    "#!pip install numpy"
   ]
  },
  {
   "cell_type": "code",
   "execution_count": 5,
   "id": "bd680e3e-4a8a-4b2c-9822-4a2c02e4be23",
   "metadata": {
    "tags": []
   },
   "outputs": [
    {
     "name": "stdout",
     "output_type": "stream",
     "text": [
      "Матриця:\n",
      "[[1 2 3]\n",
      " [4 5 6]\n",
      " [7 8 9]]\n",
      "Матриця (ще один варіант):\n",
      "[[1 2 3]\n",
      " [4 5 6]\n",
      " [7 8 9]]\n"
     ]
    }
   ],
   "source": [
    "# Приклади роботи з матрицями\n",
    "import numpy as np\n",
    "\n",
    "# Задаємо матрицю 3*3\n",
    "m_sqr_arr = np.array([[1, 2, 3], [4, 5, 6], [7, 8, 9]])\n",
    "print(\"Матриця:\")\n",
    "print(m_sqr_arr)\n",
    "\n",
    "# Ще один варіант задати матрицю\n",
    "m_sqr_mx = np.matrix([[1, 2, 3], [4, 5, 6], [7, 8, 9]])\n",
    "print(\"Матриця (ще один варіант):\")\n",
    "print(m_sqr_mx)"
   ]
  },
  {
   "cell_type": "code",
   "execution_count": 10,
   "id": "6550cd09-c6e7-4842-a13f-81c755b38252",
   "metadata": {
    "tags": []
   },
   "outputs": [
    {
     "name": "stdout",
     "output_type": "stream",
     "text": [
      "Діагональ:\n",
      "[1 5 9]\n",
      "Діагональна матриця:\n",
      "[[1 0 0]\n",
      " [0 5 0]\n",
      " [0 0 9]]\n"
     ]
    }
   ],
   "source": [
    "# Побудуємо діагональ\n",
    "diag = np.diag(m_sqr_mx)\n",
    "print(\"Діагональ:\")\n",
    "print(diag)\n",
    "\n",
    "# Побудуємо діагональну матрицю на основі діагоналі\n",
    "m_diag_np = np.diag(np.diag(m_sqr_mx))\n",
    "print(\"Діагональна матриця:\")\n",
    "print(m_diag_np)\n",
    "\n"
   ]
  },
  {
   "cell_type": "code",
   "execution_count": 8,
   "id": "122d5a0f-9305-4bbb-97c2-95e6351a9e12",
   "metadata": {
    "tags": []
   },
   "outputs": [
    {
     "name": "stdout",
     "output_type": "stream",
     "text": [
      "[[0 0 0]\n",
      " [0 0 0]\n",
      " [0 0 0]]\n"
     ]
    }
   ],
   "source": [
    "# Створіть двовимірний масив (матрицю) розміром 3x3, заповніть його нулями та виведіть його значення.\n",
    "matrix = np.zeros((3, 3), dtype=int)\n",
    "print(matrix)"
   ]
  },
  {
   "cell_type": "code",
   "execution_count": 9,
   "id": "a6aebb3e-8897-43c1-80c3-2b3cd741f9b5",
   "metadata": {
    "tags": []
   },
   "outputs": [
    {
     "name": "stdout",
     "output_type": "stream",
     "text": [
      "[[ 6  9  0  0]\n",
      " [ 3  6  0  2]\n",
      " [ 0  1 10  6]\n",
      " [ 8  2  6  5]]\n"
     ]
    }
   ],
   "source": [
    "# Створіть масив розміром 4x4, заповніть його випадковими цілими числами в діапазоні від 1 до 10 та виведіть його значення.\n",
    "matrix = np.random.randint(11, size=(4,4))\n",
    "print(matrix)"
   ]
  },
  {
   "cell_type": "code",
   "execution_count": 18,
   "id": "09aea850-c1e2-435a-a1ec-d3f6dbc93f24",
   "metadata": {
    "tags": []
   },
   "outputs": [
    {
     "name": "stdout",
     "output_type": "stream",
     "text": [
      "[[1 1 1]\n",
      " [1 1 1]\n",
      " [1 1 1]]\n"
     ]
    }
   ],
   "source": [
    "#матриця з одиниць\n",
    "matrix = np.ones((3, 3), dtype=int)\n",
    "print(matrix)"
   ]
  },
  {
   "cell_type": "code",
   "execution_count": 20,
   "id": "958777bf-5a19-411b-b825-54be00494482",
   "metadata": {
    "tags": []
   },
   "outputs": [
    {
     "name": "stdout",
     "output_type": "stream",
     "text": [
      "Матриця a:\n",
      "[[1 2 3]\n",
      " [4 5 6]\n",
      " [7 8 9]]\n",
      "Транспонована матриця:\n",
      "[[1 4 7]\n",
      " [2 5 8]\n",
      " [3 6 9]]\n",
      "Ще один спосіб транспонування матриці:\n",
      "[[1 4 7]\n",
      " [2 5 8]\n",
      " [3 6 9]]\n",
      "Визначник матриці:\n",
      "-2.0\n"
     ]
    }
   ],
   "source": [
    "# Транспонована матриця\n",
    "a = np.array([[1, 2, 3], [4, 5, 6], [7, 8, 9]])\n",
    "print(\"Матриця a:\")\n",
    "print(a)\n",
    "a_t = a.transpose()\n",
    "print(\"Транспонована матриця:\")\n",
    "print(a_t)\n",
    "print(\"Ще один спосіб транспонування матриці:\")\n",
    "print(a.T)\n",
    "\n",
    "# Визначник матриці\n",
    "a = np.array([[1, 2], [3, 4]])\n",
    "a_det = np.linalg.det(a)\n",
    "print(\"Визначник матриці:\")\n",
    "print(a_det.round(2))\n",
    "\n"
   ]
  },
  {
   "cell_type": "code",
   "execution_count": 21,
   "id": "ca896f36-1ce2-43d7-be73-e3d3c10de1f4",
   "metadata": {
    "tags": []
   },
   "outputs": [
    {
     "name": "stdout",
     "output_type": "stream",
     "text": [
      "Множення матриці на число:\n",
      "[[ 3  6  9]\n",
      " [12 15 18]]\n"
     ]
    }
   ],
   "source": [
    "# Множення матриці на число \n",
    "a = np.matrix([[1, 2, 3], [4, 5, 6]])\n",
    "c = 3 * a\n",
    "print(\"Множення матриці на число:\")\n",
    "print(c)\n"
   ]
  },
  {
   "cell_type": "code",
   "execution_count": 22,
   "id": "532bc45f-118c-4422-b518-70d105e0ec59",
   "metadata": {
    "tags": []
   },
   "outputs": [
    {
     "name": "stdout",
     "output_type": "stream",
     "text": [
      "Додавання матриць:\n",
      "[[ 9  7  8]\n",
      " [14 11 19]]\n"
     ]
    }
   ],
   "source": [
    "# Додавання матриць\n",
    "a = np.matrix([[1, 6, 3], [8, 2, 7]])\n",
    "b = np.matrix([[8, 1, 5], [6, 9, 12]])\n",
    "c = a + b\n",
    "print(\"Додавання матриць:\")\n",
    "print(c)\n",
    "\n"
   ]
  },
  {
   "cell_type": "code",
   "execution_count": 23,
   "id": "8e14ca88-0aac-4eca-8113-32df8572e31e",
   "metadata": {
    "tags": []
   },
   "outputs": [
    {
     "name": "stdout",
     "output_type": "stream",
     "text": [
      "Добуток матриць:\n",
      "[[31 19]\n",
      " [85 55]]\n"
     ]
    }
   ],
   "source": [
    "# Добуток матриць\n",
    "a = np.matrix([[1, 2, 3], [4, 5, 6]])\n",
    "b = np.matrix([[7, 8], [9, 1], [2, 3]])\n",
    "c = np.dot(a, b)\n",
    "print(\"Добуток матриць:\")\n",
    "print(c)\n",
    "\n"
   ]
  },
  {
   "cell_type": "code",
   "execution_count": 24,
   "id": "27c639d7-5615-4049-8cf2-0de1a0e7d333",
   "metadata": {
    "tags": []
   },
   "outputs": [
    {
     "name": "stdout",
     "output_type": "stream",
     "text": [
      "Обернена матриця:\n",
      "[[ 0.45454545  0.27272727]\n",
      " [-0.18181818  0.09090909]]\n"
     ]
    }
   ],
   "source": [
    "# Обернена матриця\n",
    "a = np.matrix([[1, -3], [2, 5]])\n",
    "a_inv = np.linalg.inv(a)\n",
    "print(\"Обернена матриця:\")\n",
    "print(a_inv)\n"
   ]
  },
  {
   "cell_type": "code",
   "execution_count": 25,
   "id": "abd80bee-8ecc-490e-af63-ea61f463b6bb",
   "metadata": {
    "tags": []
   },
   "outputs": [
    {
     "name": "stdout",
     "output_type": "stream",
     "text": [
      "Ранг матриці:\n",
      "2\n"
     ]
    }
   ],
   "source": [
    "# Ранг матриці\n",
    "rank = np.linalg.matrix_rank(a)\n",
    "print(\"Ранг матриці:\")\n",
    "print(rank)"
   ]
  },
  {
   "cell_type": "code",
   "execution_count": 1,
   "id": "47978d34-9c95-4917-b882-ecf5b5f54b56",
   "metadata": {
    "tags": []
   },
   "outputs": [
    {
     "ename": "NameError",
     "evalue": "name 'np' is not defined",
     "output_type": "error",
     "traceback": [
      "\u001b[1;31m---------------------------------------------------------------------------\u001b[0m",
      "\u001b[1;31mNameError\u001b[0m                                 Traceback (most recent call last)",
      "Cell \u001b[1;32mIn[1], line 1\u001b[0m\n\u001b[1;32m----> 1\u001b[0m a \u001b[38;5;241m=\u001b[39m \u001b[43mnp\u001b[49m\u001b[38;5;241m.\u001b[39marray([[\u001b[38;5;241m1\u001b[39m, \u001b[38;5;241m6\u001b[39m, \u001b[38;5;241m3\u001b[39m], [\u001b[38;5;241m8\u001b[39m, \u001b[38;5;241m2\u001b[39m, \u001b[38;5;241m7\u001b[39m]])\n\u001b[0;32m      2\u001b[0m b \u001b[38;5;241m=\u001b[39m np\u001b[38;5;241m.\u001b[39marray([[\u001b[38;5;241m8\u001b[39m, \u001b[38;5;241m1\u001b[39m, \u001b[38;5;241m5\u001b[39m], [\u001b[38;5;241m6\u001b[39m, \u001b[38;5;241m9\u001b[39m, \u001b[38;5;241m12\u001b[39m]])\n\u001b[0;32m      4\u001b[0m c1 \u001b[38;5;241m=\u001b[39m a\u001b[38;5;241m*\u001b[39mb\n",
      "\u001b[1;31mNameError\u001b[0m: name 'np' is not defined"
     ]
    }
   ],
   "source": [
    "a = np.array([[1, 6, 3], [8, 2, 7]])\n",
    "b = np.array([[8, 1, 5], [6, 9, 12]])\n",
    "\n",
    "c1 = a*b\n",
    "print(\"Поелементний добуток матриць:\")\n",
    "print(c1)"
   ]
  },
  {
   "cell_type": "code",
   "execution_count": null,
   "id": "35f26819-d76a-45b0-9383-35005eb4f776",
   "metadata": {},
   "outputs": [],
   "source": []
  }
 ],
 "metadata": {
  "kernelspec": {
   "display_name": "Python 3 (ipykernel)",
   "language": "python",
   "name": "python3"
  },
  "language_info": {
   "codemirror_mode": {
    "name": "ipython",
    "version": 3
   },
   "file_extension": ".py",
   "mimetype": "text/x-python",
   "name": "python",
   "nbconvert_exporter": "python",
   "pygments_lexer": "ipython3",
   "version": "3.12.3"
  }
 },
 "nbformat": 4,
 "nbformat_minor": 5
}
