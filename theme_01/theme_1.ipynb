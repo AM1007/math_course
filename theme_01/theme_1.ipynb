{
  "nbformat": 4,
  "nbformat_minor": 0,
  "metadata": {
    "colab": {
      "provenance": []
    },
    "kernelspec": {
      "name": "python3",
      "display_name": "Python 3"
    },
    "language_info": {
      "name": "python"
    }
  },
  "cells": [
    {
      "cell_type": "markdown",
      "source": [
        "Приклад 1"
      ],
      "metadata": {
        "id": "NY4_hcr3lE0I"
      }
    },
    {
      "cell_type": "code",
      "source": [
        "import numpy as np\n",
        "a = np.array([ 2, 1, -1])\n",
        "print(a)"
      ],
      "metadata": {
        "colab": {
          "base_uri": "https://localhost:8080/"
        },
        "outputId": "621d701c-e6d4-47ce-b99d-031ae562b40f",
        "id": "ABr6jKDNXV8A"
      },
      "execution_count": null,
      "outputs": [
        {
          "output_type": "stream",
          "name": "stdout",
          "text": [
            "[ 2  1 -1]\n"
          ]
        }
      ]
    },
    {
      "cell_type": "markdown",
      "source": [
        "Приклад 2"
      ],
      "metadata": {
        "id": "xjwIFUYKlnoN"
      }
    },
    {
      "cell_type": "code",
      "source": [
        "import numpy as np\n",
        "a = np.array([ [2], [1], [-1]])\n",
        "print(a)"
      ],
      "metadata": {
        "colab": {
          "base_uri": "https://localhost:8080/"
        },
        "outputId": "891722a9-ecde-433a-c528-3a96d4624f5d",
        "id": "aDrDcZsP79CJ"
      },
      "execution_count": null,
      "outputs": [
        {
          "output_type": "stream",
          "name": "stdout",
          "text": [
            "[[ 2]\n",
            " [ 1]\n",
            " [-1]]\n"
          ]
        }
      ]
    },
    {
      "cell_type": "markdown",
      "source": [
        "Приклад 3"
      ],
      "metadata": {
        "id": "lIdy3_KknHoD"
      }
    },
    {
      "cell_type": "code",
      "source": [
        "import numpy as np\n",
        "A = np.array([ [2, 1, -1], [0, 1, -4] ])\n",
        "print(A)"
      ],
      "metadata": {
        "colab": {
          "base_uri": "https://localhost:8080/"
        },
        "outputId": "600d1b2e-278d-4e9b-b7bf-f2feb7d2d770",
        "id": "5FuARzVM-WM1"
      },
      "execution_count": null,
      "outputs": [
        {
          "output_type": "stream",
          "name": "stdout",
          "text": [
            "[[ 2  1 -1]\n",
            " [ 0  1 -4]]\n"
          ]
        }
      ]
    },
    {
      "cell_type": "markdown",
      "source": [
        "Приклад 4"
      ],
      "metadata": {
        "id": "8ItLWAdGnKgb"
      }
    },
    {
      "cell_type": "code",
      "source": [
        "import numpy as np\n",
        "A = np.array([ [5, 5, 5], [5, 5, 5],[5, 5, 5] ])\n",
        "print(A)"
      ],
      "metadata": {
        "id": "vD1QR0H8Zq75",
        "outputId": "5de0ef79-bd23-425f-98e8-83fd8a7bebfb",
        "colab": {
          "base_uri": "https://localhost:8080/"
        }
      },
      "execution_count": null,
      "outputs": [
        {
          "output_type": "stream",
          "name": "stdout",
          "text": [
            "[[5 5 5]\n",
            " [5 5 5]\n",
            " [5 5 5]]\n"
          ]
        }
      ]
    },
    {
      "cell_type": "markdown",
      "source": [
        "Приклад 5"
      ],
      "metadata": {
        "id": "_W6OyMJ8oL6I"
      }
    },
    {
      "cell_type": "code",
      "source": [
        "import numpy as np\n",
        "matrix1 = np.array([[1,0,0,0],[0,1,0,0],[0,0,1,0],[0,0,0,1]])\n",
        "print(matrix1)"
      ],
      "metadata": {
        "colab": {
          "base_uri": "https://localhost:8080/"
        },
        "id": "rSKOHaZftzGr",
        "outputId": "8d62bf1d-b880-492c-8580-df199e27fa17"
      },
      "execution_count": null,
      "outputs": [
        {
          "output_type": "stream",
          "name": "stdout",
          "text": [
            "[[1 0 0 0]\n",
            " [0 1 0 0]\n",
            " [0 0 1 0]\n",
            " [0 0 0 1]]\n"
          ]
        }
      ]
    },
    {
      "cell_type": "markdown",
      "source": [
        "Приклад 6"
      ],
      "metadata": {
        "id": "hYS0jkFwqXyX"
      }
    },
    {
      "cell_type": "code",
      "source": [
        "import numpy as np\n",
        "A = np.array([ [2, 1, -1], [0, 1, -4] ])\n",
        "B = np.array([ [-2, 1, 0], [-3, 2, 2] ])\n",
        "\n",
        "print(A+B)"
      ],
      "metadata": {
        "colab": {
          "base_uri": "https://localhost:8080/"
        },
        "outputId": "78303a24-db73-478e-df78-423a803a2085",
        "id": "jyIsFZuAnrgu"
      },
      "execution_count": null,
      "outputs": [
        {
          "output_type": "stream",
          "name": "stdout",
          "text": [
            "[[ 0  2 -1]\n",
            " [-3  3 -2]]\n"
          ]
        }
      ]
    },
    {
      "cell_type": "markdown",
      "source": [
        "Приклад 7"
      ],
      "metadata": {
        "id": "zudiUu7Uqz5B"
      }
    },
    {
      "cell_type": "code",
      "source": [
        "import numpy as np\n",
        "A = np.array([ [2, 1, -1], [0, 1, -4] ])\n",
        "print(3*A)"
      ],
      "metadata": {
        "colab": {
          "base_uri": "https://localhost:8080/"
        },
        "id": "IHOCE_bchpEC",
        "outputId": "379c3484-2079-4547-c5ee-a9a9d7074845"
      },
      "execution_count": null,
      "outputs": [
        {
          "output_type": "stream",
          "name": "stdout",
          "text": [
            "[[  6   3  -3]\n",
            " [  0   3 -12]]\n"
          ]
        }
      ]
    },
    {
      "cell_type": "markdown",
      "source": [
        "Приклад 8"
      ],
      "metadata": {
        "id": "z4Sfj2_YrdXv"
      }
    },
    {
      "cell_type": "code",
      "source": [
        "import numpy as np\n",
        "a = np.array([ [1,1], [1,1]])\n",
        "b = np.array([ [1,1], [1,1]])\n",
        "total = a.dot(b)\n",
        "print(total)"
      ],
      "metadata": {
        "id": "KVBYUgnoQlEo",
        "colab": {
          "base_uri": "https://localhost:8080/"
        },
        "outputId": "c1a32c52-b7eb-4a26-eec7-74990b0e29a7"
      },
      "execution_count": null,
      "outputs": [
        {
          "output_type": "stream",
          "name": "stdout",
          "text": [
            "[[2 2]\n",
            " [2 2]]\n"
          ]
        }
      ]
    },
    {
      "cell_type": "markdown",
      "source": [
        "Приклад 9"
      ],
      "metadata": {
        "id": "0SGePQYarlei"
      }
    },
    {
      "cell_type": "code",
      "source": [
        "import numpy as np\n",
        "a = np.array([ [1, 2], [3, 4]])\n",
        "b = np.array([ [5,6], [7,8] ])\n",
        "total = a.dot(b)\n",
        "print(total)"
      ],
      "metadata": {
        "colab": {
          "base_uri": "https://localhost:8080/"
        },
        "outputId": "4184418a-c1b4-4ae7-9b95-20b0d3baffa1",
        "id": "s4b4knrfQlcw"
      },
      "execution_count": null,
      "outputs": [
        {
          "output_type": "stream",
          "name": "stdout",
          "text": [
            "[[19 22]\n",
            " [43 50]]\n"
          ]
        }
      ]
    },
    {
      "cell_type": "markdown",
      "source": [
        "Приклад 10"
      ],
      "metadata": {
        "id": "j8NB0jN6sfK_"
      }
    },
    {
      "cell_type": "code",
      "source": [
        "import numpy as np\n",
        "a = np.array([ [1, 2], [3, 4], [5,6]])\n",
        "b = np.array([ [7,8,9], [10, 11, 12] ])\n",
        "total = a.dot(b)\n",
        "print(total)"
      ],
      "metadata": {
        "colab": {
          "base_uri": "https://localhost:8080/"
        },
        "id": "MhE_aYm-Corl",
        "outputId": "85618526-9533-46b6-d992-0055d19e4284"
      },
      "execution_count": null,
      "outputs": [
        {
          "output_type": "stream",
          "name": "stdout",
          "text": [
            "[[ 27  30  33]\n",
            " [ 61  68  75]\n",
            " [ 95 106 117]]\n"
          ]
        }
      ]
    },
    {
      "cell_type": "markdown",
      "source": [
        "Приклад 11"
      ],
      "metadata": {
        "id": "Gv0usrNMs42r"
      }
    },
    {
      "cell_type": "code",
      "source": [
        "import numpy as np\n",
        "a = np.array([ [1, 1], [2, 2], [3, 3], [4, 4], [5,5]  ])\n",
        "b = np.array([ [1,1,1], [2,2,2] ])\n",
        "print(a)\n",
        "print(b)\n",
        "total = a.dot(b)\n",
        "print(total)"
      ],
      "metadata": {
        "id": "wIVhIWIAomqr",
        "colab": {
          "base_uri": "https://localhost:8080/"
        },
        "outputId": "5701496f-1777-4cda-e399-3c6c28cfc9e6"
      },
      "execution_count": null,
      "outputs": [
        {
          "output_type": "stream",
          "name": "stdout",
          "text": [
            "[[1 1]\n",
            " [2 2]\n",
            " [3 3]\n",
            " [4 4]\n",
            " [5 5]]\n",
            "[[1 1 1]\n",
            " [2 2 2]]\n",
            "[[ 3  3  3]\n",
            " [ 6  6  6]\n",
            " [ 9  9  9]\n",
            " [12 12 12]\n",
            " [15 15 15]]\n"
          ]
        }
      ]
    },
    {
      "cell_type": "markdown",
      "source": [
        "Приклад 12"
      ],
      "metadata": {
        "id": "DLeiC43vqmMS"
      }
    },
    {
      "cell_type": "code",
      "execution_count": null,
      "metadata": {
        "colab": {
          "base_uri": "https://localhost:8080/",
          "height": 743
        },
        "id": "Fsj-mgFniyFH",
        "outputId": "30517193-be73-460e-8025-02b5d8e58342"
      },
      "outputs": [
        {
          "output_type": "display_data",
          "data": {
            "text/plain": [
              "<Figure size 640x480 with 1 Axes>"
            ],
            "image/png": "[encoded data removed]"
          },
          "metadata": {}
        },
        {
          "output_type": "display_data",
          "data": {
            "text/plain": [
              "<Figure size 640x480 with 2 Axes>"
            ],
            "image/png": "[encoded data removed]"
          },
          "metadata": {}
        }
      ],
      "source": [
        "import cv2\n",
        "import numpy as np\n",
        "import matplotlib.pyplot as plt\n",
        "import urllib\n",
        "\n",
        "###################### Генерація зображення  ###################################\n",
        "import cv2\n",
        "import numpy as np\n",
        "import matplotlib.pyplot as plt\n",
        "\n",
        "# Розмір зображення\n",
        "height = 100\n",
        "width = 100\n",
        "\n",
        "# Створення чорного зображення\n",
        "image = np.zeros((height, width), dtype=np.uint8)\n",
        "\n",
        "# Додавання цифри \"1\"\n",
        "font = cv2.FONT_HERSHEY_SIMPLEX\n",
        "cv2.putText(image, '1', (width // 4, height // 2), font, 2, 255, 2, cv2.LINE_AA)\n",
        "\n",
        "# Відображення та збереження зображення\n",
        "plt.imshow(image, cmap='gray')\n",
        "plt.title('Згенероване зображення з цифрою \"1\"')\n",
        "plt.show()\n",
        "################################################################################\n",
        "\n",
        "# Задаємо матрицю трансформації для зсуву (зсув на 10 пікселів вправо та 50 пікселів вниз)\n",
        "M = np.float32([[1, 0, 10], [0, 1, 50]])\n",
        "\n",
        "# Виконуємо афінне перетворення\n",
        "result_image = cv2.warpAffine(image, M, (image.shape[1], image.shape[0]))\n",
        "\n",
        "# Показуємо оригінальне та змінене зображення\n",
        "plt.subplot(121), plt.imshow(cv2.cvtColor(image, cv2.COLOR_BGR2RGB)), plt.title('Оригінал')\n",
        "plt.subplot(122), plt.imshow(cv2.cvtColor(result_image, cv2.COLOR_BGR2RGB)), plt.title('Зсунуте')\n",
        "\n",
        "plt.show()\n"
      ]
    }
  ]
}