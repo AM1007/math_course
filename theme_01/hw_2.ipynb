{
  "nbformat": 4,
  "nbformat_minor": 0,
  "metadata": {
    "colab": {
      "provenance": []
    },
    "kernelspec": {
      "name": "python3",
      "display_name": "Python 3"
    },
    "language_info": {
      "name": "python"
    }
  },
  "cells": [
    {
      "cell_type": "markdown",
      "source": [
        "# Завдання 1\n",
        "Виріши аналітично задачу з текстовою умовою\n",
        "\n",
        "Над проектом працювало 3 типи спеціалістів - дизайнери, розробники та тестувальники. Ми знаємо кількість годин на кожному етапі розробки та кількість грошей, які закладені на виконання кожного етапу в якості собівартості.\n",
        "Всю розробку менеджер розділив на 3 етапи: створення дизайну, розробка програмної частини, фінальне тестування.\n",
        "\n",
        "На першому етапі відпрацьовано 20 годин дизайнером та 3 години розробниками - на даному етапі до смети закладено 775 доларів.\n",
        "На другому етапі дизайнери відпрацювали 8 годин, розробники - 28, а тестувальники - 4. Даний етап було оцінено в 1012 доларів.\n",
        "На фінальному етапі дизайнери відпрацювали 4 години, розробники - 12, а тестувальники 32. Трудові ресурси на цьому етапі оцінені в 696 доларів.\n",
        "\n",
        "Знайди вартість години у кожного спеціаліста шляхом вирішення системи лінійних рівнянь, базуючись на даних по етапах розробки."
      ],
      "metadata": {
        "id": "AIw8Nl0sbsd0"
      }
    },
    {
      "cell_type": "markdown",
      "source": [
        "Розв'язок:\n",
        "\n",
        "$$\n",
        "\\overline x =\n",
        "\\left (\\begin{array}{cc}\n",
        "x - вартість\\:години\\:роботи\\:дизайнера\\\\\n",
        "y - вартість\\:години\\:роботи\\:розробника\\\\\n",
        "z - вартість\\:години\\:роботи\\:тестувальника\n",
        "\\end{array}\\right)\n",
        "\\left\\{\\begin{matrix}\n",
        "20x+3y=775(перший\\:етап)\\\\\n",
        "8x+28y+4z=1012(другий\\:етап)\\\\\n",
        "4x+12y+32z=696 (третій\\:етап)\n",
        "\\end{matrix}\\right.\n",
        "\\\\\n",
        "A =\n",
        "\\left (\\begin{array}{cc}\n",
        "20 & 3 & 0 \\\\\n",
        "8 & 28 & 4 \\\\\n",
        "4 & 12 & 32\n",
        "\\end{array}\\right)\n",
        "\\\\\n",
        "b =\n",
        "\\left (\\begin{array}{cc}\n",
        "775 \\\\\n",
        "1012 \\\\\n",
        "696\n",
        "\\end{array}\\right)\n",
        "\\\\\n",
        "A \\overline x = b\n",
        "$$"
      ],
      "metadata": {
        "id": "lj_B2d51b2Ai"
      }
    },
    {
      "cell_type": "markdown",
      "source": [
        "*Розв'язувати можна будь-яким методом, але метод Крамера, потенційно, буде найлегшим*\n",
        "\n",
        "###По-перше, треба знайти визначник матриці і перевірити чи він є ненульовим,тоді система рівнянь матиме один розв'язок.\n",
        "$$\n",
        "\\Delta = \\left|A\\right|=\n",
        "\\begin{vmatrix}\n",
        "20 & 3 & 0\\\\\n",
        "8 & 28 & 4\\\\\n",
        "4 & 12 & 32\n",
        "\\end{vmatrix}\\\n",
        "$$\n",
        "\\\n",
        "$$\n",
        "\\Delta=\n",
        "20(28⋅32−4⋅12)−3(8⋅32−4⋅4)+0(8⋅12−28⋅4)=20(896−48)−3(256−16)+0(96−112)=20⋅848−3⋅240+0⋅(−16)\\\\\n",
        "$$\n",
        "$$\n",
        "\\Delta=16960−720=16240\n",
        "$$"
      ],
      "metadata": {
        "id": "MAH-Rm9NpAoi"
      }
    },
    {
      "cell_type": "code",
      "source": [
        "# Його можна обчислити за допомогою Python\n",
        "import numpy as np\n",
        "\n",
        "# запис даних у матричну форму А\n",
        "A = np.array([\n",
        "    [20, 3, 0],\n",
        "    [8, 28, 4],\n",
        "    [4, 12, 32]\n",
        "])\n",
        "\n",
        "# трудові ресурси на кожному етапі можна ввести у вигляді вектора b\n",
        "b = np.array([775, 1012, 696])\n",
        "\n",
        "# і вичислити визначник матриці A\n",
        "det_A = np.linalg.det(A)\n",
        "\n",
        "# визначник матриці A є ненульовим\n",
        "print(det_A)"
      ],
      "metadata": {
        "colab": {
          "base_uri": "https://localhost:8080/"
        },
        "id": "qnYgaxuJT1UA",
        "outputId": "0414db87-336d-44d0-c179-bdfb7d1d8a85"
      },
      "execution_count": 2,
      "outputs": [
        {
          "output_type": "stream",
          "name": "stdout",
          "text": [
            "16240.000000000005\n"
          ]
        }
      ]
    },
    {
      "cell_type": "markdown",
      "source": [
        "####далі треба обчислити визначники $\\Delta_{x}$\\,$\\Delta_{y}$\\, $\\Delta_{z}$ шляхом заміни відповідних стовпців на вектор b."
      ],
      "metadata": {
        "id": "NR2bdlPJT715"
      }
    },
    {
      "cell_type": "markdown",
      "source": [
        "\n",
        "#Обчислення $\\Delta_{x}$\n",
        "$$\n",
        "A_{x}=\n",
        "\\begin{vmatrix}\n",
        "775 & 3 & 0\\\\\n",
        "1012 & 28 & 4\\\\\n",
        "696 & 12 & 32\n",
        "\\end{vmatrix}\\\n",
        "$$\n",
        "\\\n",
        "$$\n",
        "\\Delta_{x}=\n",
        "775\\begin{vmatrix}\n",
        " 28 & 4\\\\\n",
        " 12 & 32\n",
        "\\end{vmatrix}-3\\begin{vmatrix}\n",
        " 1012 & 4\\\\\n",
        " 696 & 32\n",
        "\\end{vmatrix}+0\\begin{vmatrix}\n",
        " 1012 & 28\\\\\n",
        " 696 & 12\n",
        "\\end{vmatrix}=775((28⋅32)−(4⋅12))-3((1012⋅32)−(4⋅696))+0=\\\\\n",
        "=775(896−48)−3(32384−2784)\\\\\n",
        "$$\n",
        "$$\n",
        "\\Delta_{x}=656200−88800=567400\n",
        "$$"
      ],
      "metadata": {
        "id": "V4aRksOPUA7X"
      }
    },
    {
      "cell_type": "markdown",
      "source": [
        "\n",
        "#Обчислення $\\Delta_{y}$\n",
        "$$\n",
        "A_{y}=\n",
        "\\begin{vmatrix}\n",
        "20 & 775 & 0\\\\\n",
        "8 & 1012 & 4\\\\\n",
        "4 & 696 & 32\n",
        "\\end{vmatrix}\\\n",
        "$$\n",
        "\\\n",
        "$$\n",
        "\\Delta_{y}=\n",
        "20\\begin{vmatrix}\n",
        " 1012 & 4\\\\\n",
        " 696 & 32\n",
        "\\end{vmatrix}-775\\begin{vmatrix}\n",
        " 8 & 4\\\\\n",
        " 4 & 32\n",
        "\\end{vmatrix}+0\\begin{vmatrix}\n",
        " 8 & 1012\\\\\n",
        " 4 & 696\n",
        "\\end{vmatrix}=20⋅29600-775((8⋅32)−(4⋅4))+0\\\\\n",
        "$$\n",
        "$$\n",
        "\\Delta_{y}=592000−186000=406000\n",
        "$$"
      ],
      "metadata": {
        "id": "z5y18qiTUB1L"
      }
    },
    {
      "cell_type": "markdown",
      "source": [
        "\n",
        "#Обчислення $\\Delta_{z}$\n",
        "$$\n",
        "A_{z}=\n",
        "\\begin{vmatrix}\n",
        "20 & 3 & 775\\\\\n",
        "8 & 28 & 1012\\\\\n",
        "4 & 12 & 696\n",
        "\\end{vmatrix}\\\n",
        "$$\n",
        "\\\n",
        "$$\n",
        "\\Delta_{z}=\n",
        "20\\begin{vmatrix}\n",
        " 28 & 1012\\\\\n",
        " 12 & 696\n",
        "\\end{vmatrix}-3\\begin{vmatrix}\n",
        " 8 & 1012\\\\\n",
        " 4 & 696\n",
        "\\end{vmatrix}+775\\begin{vmatrix}\n",
        " 8 & 28\\\\\n",
        " 4 & 12\n",
        "\\end{vmatrix}=20((28⋅696)−(1012⋅12))-3((8⋅696)−(1012⋅4))+775((8⋅12)−(28⋅4))=\\\\\n",
        "=20(19488−12144)-3(5568−4048)+775(96−112)\\\\\n",
        "$$\n",
        "$$\n",
        "\\Delta_{z}=146880−4560−12400=129920\n",
        "$$"
      ],
      "metadata": {
        "id": "3n75LGo9UGaE"
      }
    },
    {
      "cell_type": "code",
      "source": [
        "import numpy as np\n",
        "# можна провести обчислення за допомогою Python\n",
        "# заміна відповідних стовбців у матрицях A_x, A_y, A_z\n",
        "A_x = np.copy(A)\n",
        "A_x[:, 0] = b\n",
        "\n",
        "A_y = np.copy(A)\n",
        "A_y[:, 1] = b\n",
        "\n",
        "A_z = np.copy(A)\n",
        "A_z[:, 2] = b\n",
        "\n",
        "# вичислення детермінантів\n",
        "det_A_x = np.linalg.det(A_x)\n",
        "det_A_y = np.linalg.det(A_y)\n",
        "det_A_z = np.linalg.det(A_z)\n",
        "\n",
        "print(det_A_x)\n",
        "print(det_A_y)\n",
        "print(det_A_z)"
      ],
      "metadata": {
        "colab": {
          "base_uri": "https://localhost:8080/"
        },
        "id": "bCKGUICSUMfx",
        "outputId": "fa25f26b-4c73-4e8d-98e7-f2961b56b6a1"
      },
      "execution_count": 3,
      "outputs": [
        {
          "output_type": "stream",
          "name": "stdout",
          "text": [
            "568399.9999999998\n",
            "405999.99999999953\n",
            "129920.00000000007\n"
          ]
        }
      ]
    },
    {
      "cell_type": "markdown",
      "source": [
        "##тепер можна обчислити вартість години роботи кожного спеціаліста\n",
        "$$\n",
        "x(дизайнера)=\n",
        "\\frac{\\Delta_{x}}{\\Delta}\n",
        "=\n",
        "\\frac{568 400}{16 240}=35\\:доларів\n",
        "$$\n",
        "\\\n",
        "$$\n",
        "y(розробника)=\n",
        "\\frac{\\Delta_{y}}{\\Delta}\n",
        "=\n",
        "\\frac{406 000}{16 240}=25\\:доларів\n",
        "$$\n",
        "\\\n",
        "$$\n",
        "z(тестувальника)=\n",
        "\\frac{\\Delta_{z}}{\\Delta}\n",
        "=\n",
        "\\frac{129 920}{16 240}=8\\:доларів\n",
        "$$"
      ],
      "metadata": {
        "id": "EcojYGxQUfr7"
      }
    },
    {
      "cell_type": "markdown",
      "source": [
        "Перевірка: $x+y+z = 68$"
      ],
      "metadata": {
        "id": "cRLkDGaNUkNp"
      }
    },
    {
      "cell_type": "markdown",
      "source": [
        "# Завдання 2\n",
        "- Задай матрицю та вектор вільних членів для наступної системи:"
      ],
      "metadata": {
        "id": "bHTmMx9mDoWb"
      }
    },
    {
      "cell_type": "markdown",
      "source": [
        "$$\n",
        "\\left\\{\\begin{matrix}\n",
        "-x_1+х_2+2x_3=1\\\\\n",
        "-x_2-3x_3=-4\\\\\n",
        "4x_1-3x_2+2x_3=7\n",
        "\\end{matrix}\\right.\n",
        "$$\n",
        "##Виразимо матрицю A та вектор b:\n",
        "$$\n",
        "A =\n",
        "\\left (\\begin{array}{cc}\n",
        "-1 & 1 & 2 \\\\\n",
        "0 & -1 & -3 \\\\\n",
        "4 & -3 & 2\n",
        "\\end{array}\\right)\n",
        "$$\n",
        "$$\n",
        "b =\n",
        "\\left (\\begin{array}{cc}\n",
        "1 \\\\\n",
        "-4 \\\\\n",
        "7\n",
        "\\end{array}\\right)\n",
        "$$\n"
      ],
      "metadata": {
        "id": "Hwb1-KHJAPmR"
      }
    },
    {
      "cell_type": "code",
      "source": [
        "import numpy as np\n",
        "A = np.array([\n",
        "    [-1, 1, 2],\n",
        "    [0, -1, -3],\n",
        "    [4, -3, 2]\n",
        "]\n",
        ")\n",
        "B = np.array([1, -4, 7])\n",
        "\n",
        "# Розв'язання системи лінійних рівнянь за допомогою метода солве\n",
        "x = np.linalg.solve(A, b)\n",
        "\n",
        "# Виводимо розв'язок\n",
        "print(x)"
      ],
      "metadata": {
        "id": "T4BEZ2vXByqI",
        "colab": {
          "base_uri": "https://localhost:8080/"
        },
        "outputId": "b7e6615e-6ce2-4888-da01-dd352dca73b8"
      },
      "execution_count": 4,
      "outputs": [
        {
          "output_type": "stream",
          "name": "stdout",
          "text": [
            "[-2473.85714286 -3072.57142857   686.85714286]\n"
          ]
        }
      ]
    },
    {
      "cell_type": "markdown",
      "source": [
        "\n",
        "- Напиши функцію для вирішення системи матричним методом\n",
        "- Напиши функцію для вирішення системи методом Крамера"
      ],
      "metadata": {
        "id": "BgqgSUctDj_l"
      }
    },
    {
      "cell_type": "code",
      "execution_count": 5,
      "metadata": {
        "id": "yJJLOyigUduv",
        "colab": {
          "base_uri": "https://localhost:8080/"
        },
        "outputId": "689b9bbe-2fde-4f79-c772-8274719a8afa"
      },
      "outputs": [
        {
          "output_type": "stream",
          "name": "stdout",
          "text": [
            "Вектор рішення: \r\n",
            " [2. 1. 1.]\n"
          ]
        }
      ],
      "source": [
        "# Напиши функцію для вирішення системи матричним методом\n",
        "def solve_inv_matrix(a, b, verbose=False):\n",
        "    \"\"\"\n",
        "    Розв'язує систему лінійних рівнянь за допомогою оберненої матриці.\n",
        "\n",
        "    Параметри:\n",
        "    a (numpy.ndarray): Матриця коефіцієнтів.\n",
        "    b (numpy.ndarray): Вектор вільних членів.\n",
        "    verbose (bool): Якщо True, виводить проміжні кроки.\n",
        "\n",
        "    Повертає:\n",
        "    numpy.ndarray: Вектор розв'язків.\n",
        "    \"\"\"\n",
        "    # Обчислюємо обернену матрицю\n",
        "    a_inv = np.linalg.inv(a)\n",
        "\n",
        "    if verbose:\n",
        "        print(\"Обернена матриця A:\\n\", a_inv)\n",
        "\n",
        "    # Розв'язуємо систему рівнянь\n",
        "    x = np.dot(a_inv, b)\n",
        "\n",
        "    if verbose:\n",
        "        print(\"Вектор розв'язків x:\\n\", x)\n",
        "\n",
        "    return x\n",
        "\n",
        "# матриця коефіцієнтів A\n",
        "A = np.array([\n",
        "    [-1, 1, 2],\n",
        "    [0, -1, -3],\n",
        "    [4, -3, 2]\n",
        "])\n",
        "\n",
        "# вводимо вектор вільних членів b\n",
        "B = np.array([1, -4, 7])\n",
        "\n",
        "# Викликає функцію для розв'язання системи\n",
        "print(f\"Вектор рішення: \\r\\n {solve_inv_matrix(A, B)}\")\n"
      ]
    },
    {
      "cell_type": "code",
      "source": [
        "# Напиши функцію для вирішення системи методом Крамера\n",
        "\n",
        "def solve_cramer(a, b, verbose=False):\n",
        "    \"\"\"\n",
        "    Розв'язує систему лінійних рівнянь методом Крамера.\n",
        "\n",
        "    Параметри:\n",
        "    a (numpy.ndarray): Матриця коефіцієнтів.\n",
        "    b (numpy.ndarray): Вектор вільних членів.\n",
        "    verbose (bool): Якщо True, виводить проміжні кроки.\n",
        "\n",
        "    Повертає:\n",
        "    numpy.ndarray: Вектор розв'язків.\n",
        "    \"\"\"\n",
        "    n = a.shape[0]\n",
        "    det_a = np.linalg.det(a)\n",
        "\n",
        "    if verbose:\n",
        "        print(\"Визначник матриці A:\", det_a)\n",
        "\n",
        "    if det_a == 0:\n",
        "        raise ValueError(\"Матриця коефіцієнтів є виродженою (визначник дорівнює нулю), система не має єдиного розв'язку.\")\n",
        "\n",
        "    x = np.zeros(n)\n",
        "\n",
        "    for i in range(n):\n",
        "        a_i = np.copy(a)\n",
        "        a_i[:, i] = b\n",
        "        det_a_i = np.linalg.det(a_i)\n",
        "\n",
        "        if verbose:\n",
        "            print(f\"Визначник матриці A з заміненим стовпцем {i}:\", det_a_i)\n",
        "\n",
        "        x[i] = det_a_i / det_a\n",
        "\n",
        "    return x\n",
        "\n",
        "# Задається матриця коефіцієнтів A\n",
        "A = np.array([\n",
        "    [-1, 1, 2],\n",
        "    [0, -1, -3],\n",
        "    [4, -3, 2]\n",
        "])\n",
        "\n",
        "# Задається вектор вільних членів b\n",
        "B = np.array([1, -4, 7])\n",
        "\n",
        "# Викликається функція для розв'язання системи\n",
        "print(f\"Вектор рішення: \\r\\n {solve_cramer(A, B)}\")"
      ],
      "metadata": {
        "id": "PJMQzXkrAQmM",
        "colab": {
          "base_uri": "https://localhost:8080/"
        },
        "outputId": "fa06db3a-b78d-418e-a10b-326019884e4d"
      },
      "execution_count": 6,
      "outputs": [
        {
          "output_type": "stream",
          "name": "stdout",
          "text": [
            "Вектор рішення: \r\n",
            " [2. 1. 1.]\n"
          ]
        }
      ]
    }
  ]
}