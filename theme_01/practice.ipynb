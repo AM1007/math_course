{
  "cells": [
    {
      "cell_type": "markdown",
      "metadata": {
        "id": "6a5pCDY_txYI"
      },
      "source": [
        "#Матриці та операції над ними"
      ]
    },
    {
      "cell_type": "markdown",
      "metadata": {
        "id": "pMKOFSBhbDUm"
      },
      "source": [
        "# Практика\n",
        "## Розмірність матриці:\n",
        "**Завдання**\n",
        "\n",
        "Знайдіть розмірність у матриць:\n",
        "\n",
        "$A=\\begin{pmatrix}\n",
        "2 & 0 & 0 & 1 \\\\\n",
        "0 & −1 & 2 & 1 \\\\\n",
        "2 & 1 & 0  & 3\n",
        "\\end{pmatrix}$.  \n",
        "\n",
        "$B=\\begin{pmatrix}\n",
        "2 & 0  \\\\\n",
        "0 & −1 \\\\\n",
        "2 & 1\n",
        "\\end{pmatrix}$.\n",
        "\n",
        "\n",
        "$C=\\begin{pmatrix}\n",
        "2 & 0 & 0 & 1 \\\\\n",
        "0 & −1 & 2 & 1 \\\\\n",
        "0 & −1 & 2 & 1  \\\\\n",
        "2 & 1 & 0  & 3 \\\\\n",
        "2 & 0 & 0 & 1\n",
        "\\end{pmatrix}$.\n",
        "\n",
        "**Додаткове завдання:**\n",
        "1. Напишіть програму, яка генерує матрицю заданої розмірності та заповнює її випадковими цілими числами.\n",
        "2. Напишіть програму, яка генерує одиничну матрицю випадкової розмірності.\n",
        "3. Напишіть програму, яка генерує матрицю заданої розмірності із заповненою лише зворотньою діагоналлю.\n"
      ]
    },
    {
      "cell_type": "markdown",
      "metadata": {
        "id": "OBOGd97Yu6aC"
      },
      "source": [
        "Визначення розмірності матриці засобами Numpy"
      ]
    },
    {
      "cell_type": "code",
      "execution_count": 2,
      "metadata": {
        "colab": {
          "base_uri": "https://localhost:8080/"
        },
        "id": "3B8_Gc9Eu1Qf",
        "outputId": "1b0a2cf5-c03e-4a05-8feb-a8c7c2fa456a"
      },
      "outputs": [
        {
          "name": "stdout",
          "output_type": "stream",
          "text": [
            "Кількість строк: 3\n",
            "Кількість стовпців: 3\n"
          ]
        }
      ],
      "source": [
        "import numpy as np\n",
        "\n",
        "def get_matrix_dimensions(matrix):\n",
        "\n",
        "    \n",
        "    \"\"\"\n",
        "    Функція повертає розмірність матриці (кількість строк та стовпців).\n",
        "\n",
        "    Параметри:\n",
        "    - matrix: numpy.ndarray, вхідна матриця.\n",
        "\n",
        "    Повертає:\n",
        "    - tuple: Кортеж із кількістю строк та стовпців матриці.\n",
        "    \"\"\"\n",
        "    num_rows, num_columns = matrix.shape\n",
        "    return num_rows, num_columns\n",
        "\n",
        "# Приклад використання\n",
        "example_matrix = np.array([[1, 2, 3], [4, 5, 6], [7, 8, 9]])\n",
        "dimensions = get_matrix_dimensions(example_matrix)\n",
        "\n",
        "print(\"Кількість строк:\", dimensions[0])\n",
        "print(\"Кількість стовпців:\", dimensions[1])\n"
      ]
    },
    {
      "cell_type": "markdown",
      "metadata": {
        "id": "3HirXtofNMJr"
      },
      "source": [
        "Генерування випадкової матриці"
      ]
    },
    {
      "cell_type": "code",
      "execution_count": null,
      "metadata": {
        "colab": {
          "base_uri": "https://localhost:8080/"
        },
        "id": "SUgnJwjyNOez",
        "outputId": "9adcbd7f-bc1f-4ee2-9b05-5e47b6acda73"
      },
      "outputs": [
        {
          "name": "stdout",
          "output_type": "stream",
          "text": [
            "Випадково заповнена матриця:\n",
            "[[3 2 1 5]\n",
            " [6 1 1 8]\n",
            " [2 8 3 5]]\n"
          ]
        }
      ],
      "source": [
        "def generate_random_matrix(rows, columns, low_limit, high_limit):\n",
        "    \"\"\"\n",
        "    Функція генерує матрицю заданої розмірності та заповнює її випадковими числами з вказаним інтервалом.\n",
        "\n",
        "    Параметри:\n",
        "    - rows: int, кількість строк матриці.\n",
        "    - columns: int, кількість стовпців матриці.\n",
        "    - low_limit: int, нижня межа інтервалу для випадкових чисел.\n",
        "    - high_limit: int, верхня межа інтервалу для випадкових чисел.\n",
        "\n",
        "    Повертає:\n",
        "    - numpy.ndarray: Випадково заповнена матриця.\n",
        "    \"\"\"\n",
        "    random_matrix = np.random.randint(low_limit, high_limit, size=(rows, columns))\n",
        "    return random_matrix\n",
        "\n",
        "# Параметри матриці\n",
        "rows = 3\n",
        "columns = 4\n",
        "low_limit = 1\n",
        "high_limit = 10\n",
        "\n",
        "# Генеруємо та виводимо матрицю\n",
        "random_matrix = generate_random_matrix(rows, columns, low_limit, high_limit)\n",
        "print(\"Випадково заповнена матриця:\")\n",
        "print(random_matrix)\n"
      ]
    },
    {
      "cell_type": "markdown",
      "metadata": {
        "id": "KkJocCwpNvvQ"
      },
      "source": [
        "Генерування одиничної матриці випадкової розмірності"
      ]
    },
    {
      "cell_type": "code",
      "execution_count": null,
      "metadata": {
        "colab": {
          "base_uri": "https://localhost:8080/"
        },
        "id": "1cOmOaZTNyXY",
        "outputId": "4e2eb3da-4d98-480a-84af-e5fd860fb970"
      },
      "outputs": [
        {
          "name": "stdout",
          "output_type": "stream",
          "text": [
            "Одинична матриця:\n",
            "[[1. 0. 0. ... 0. 0. 0.]\n",
            " [0. 1. 0. ... 0. 0. 0.]\n",
            " [0. 0. 1. ... 0. 0. 0.]\n",
            " ...\n",
            " [0. 0. 0. ... 1. 0. 0.]\n",
            " [0. 0. 0. ... 0. 1. 0.]\n",
            " [0. 0. 0. ... 0. 0. 1.]]\n"
          ]
        },
        {
          "data": {
            "text/plain": [
              "(94, 94)"
            ]
          },
          "execution_count": 13,
          "metadata": {},
          "output_type": "execute_result"
        }
      ],
      "source": [
        "import random\n",
        "def gen_eye_matrix(row):\n",
        "    return np.eye(row)\n",
        "\n",
        "\n",
        "\n",
        "n = random.randint(1, 100)  # Генерує випадкове число в діапазоні від 1 до 100\n",
        "\n",
        "eye_matrix = gen_eye_matrix(n)\n",
        "\n",
        "print(\"Одинична матриця:\")\n",
        "print(eye_matrix)\n",
        "\n",
        "get_matrix_dimensions(eye_matrix)"
      ]
    },
    {
      "cell_type": "markdown",
      "metadata": {
        "id": "uGfscuxINzDc"
      },
      "source": [
        "Генерування матриці заданої розмірності із заповненою лише зворотньою діагоналлю"
      ]
    },
    {
      "cell_type": "code",
      "execution_count": null,
      "metadata": {
        "colab": {
          "base_uri": "https://localhost:8080/"
        },
        "id": "yVz9XsQQAEpb",
        "outputId": "066389b2-dd1e-4f0d-a7f2-2ab0373db14b"
      },
      "outputs": [
        {
          "name": "stdout",
          "output_type": "stream",
          "text": [
            "Матриця із заповненою лише зворотньою діагоналлю випадковими даними:\n",
            "[[0 0 0 0 5]\n",
            " [0 0 0 6 0]\n",
            " [0 0 2 0 0]\n",
            " [0 3 0 0 0]\n",
            " [2 0 0 0 0]]\n"
          ]
        }
      ],
      "source": [
        "import numpy as np\n",
        "import random\n",
        "\n",
        "def generate_reverse_diagonal_matrix(size):\n",
        "    \"\"\"\n",
        "    Функція генерує квадратну матрицю заданої розмірності із заповненою лише зворотньою діагоналлю випадковими даними.\n",
        "\n",
        "    Параметри:\n",
        "    - size: int, розмірність квадратної матриці.\n",
        "\n",
        "    Повертає:\n",
        "    - numpy.ndarray: Матриця із заповненою лише зворотньою діагоналлю випадковими даними.\n",
        "    \"\"\"\n",
        "    matrix = np.zeros((size, size), dtype=int)\n",
        "\n",
        "    # Генеруємо випадкові числа та заповнюємо зворотню діагональ\n",
        "    for i in range(size):\n",
        "        matrix[size - i - 1, i] = random.randint(1, 10)\n",
        "\n",
        "    return matrix\n",
        "\n",
        "# Задаємо розмірність матриці\n",
        "matrix_size = 5\n",
        "\n",
        "# Генеруємо та виводимо матрицю із заповненою лише зворотньою діагоналлю випадковими даними\n",
        "result_matrix = generate_reverse_diagonal_matrix(matrix_size)\n",
        "print(\"Матриця із заповненою лише зворотньою діагоналлю випадковими даними:\")\n",
        "print(result_matrix)\n"
      ]
    },
    {
      "cell_type": "markdown",
      "metadata": {
        "id": "eOxeyLw1cc_s"
      },
      "source": [
        "## Операції із матрицями\n",
        "**Завдання**\n",
        "\n",
        "1. $\\begin{pmatrix}\n",
        "1 & 2 \\\\\n",
        " 0 & 1\\end{pmatrix} + \\begin{pmatrix}\n",
        "1 & 2 \\\\\n",
        " 0 & 1\\end{pmatrix}$  \n",
        "\n",
        "\n",
        " 2. Якщо $A = \\begin{pmatrix}\n",
        " 1 & 3 &−1 \\\\\n",
        "0 & 1 & −1 \\\\\n",
        "1 & 1 & 2\n",
        "\\end{pmatrix} , B= \\begin{pmatrix}\n",
        "1 & −3 & 2\\\\\n",
        "−1 & 0 & 1 \\\\\n",
        "2 & 1 & 1 \\end{pmatrix}$, обрахуйте:  \n",
        "$\n",
        "a. 2A− 3B;   $  \n",
        "$b. A+ 5B;  $  \n",
        "$c. −A− 2B; $   \n",
        "$d. 7A−B;  $  \n",
        "$e. 3A−B;  $  \n",
        "$f. 2A+ 2B;  $  \n",
        "$g. A− 2B;  $  \n",
        "$h. 4A+B;  $  \n",
        "$i. 2A− 4B;  $  \n",
        "$j. 7A− 2B;  $  \n",
        "\n",
        "**Додаткове завдання:**\n",
        "1. Напишіть програму, яка отримує значення матриць (париклад, з CSV файла) та робить із матрицями обрахунки за запитом від користувача\n"
      ]
    },
    {
      "cell_type": "code",
      "execution_count": null,
      "metadata": {
        "id": "oahPTTq7sEIh"
      },
      "outputs": [],
      "source": [
        "import numpy as np\n",
        "import pandas as pd\n",
        "\n",
        "# Припустимо, у нас є матриця\n",
        "matrixA = np.array([[1, 3, -1], [0, 1, -1], [1, 1, 2]])\n",
        "matrixB = np.array([[1, -3, 2], [-1, 0, 1], [2, 1, 1]])\n",
        "# Створення DataFrame з матриці\n",
        "dfA = pd.DataFrame(matrixA)\n",
        "dfB = pd.DataFrame(matrixB)\n",
        "\n",
        "# Запис у CSV файл\n",
        "dfA.to_csv('matrixA.csv', index=False, header=False)\n",
        "dfB.to_csv('matrixB.csv', index=False, header=False)"
      ]
    },
    {
      "cell_type": "code",
      "execution_count": null,
      "metadata": {
        "id": "YD1JAfXxtufz"
      },
      "outputs": [],
      "source": [
        "def matrix_mul(A, B):\n",
        "    # Перевіряємо умову добутку\n",
        "    if A.shape[1] != B.shape[0]:\n",
        "        raise ValueError(\"Неможливо помножити ці матриці. Кількість стовпців у A \"\n",
        "                         \"повинна дорівнювати кількості рядків у B.\")\n",
        "\n",
        "    # Помножимо матриці\n",
        "    res = np.dot(A, B)\n",
        "    return res\n"
      ]
    },
    {
      "cell_type": "code",
      "execution_count": null,
      "metadata": {
        "id": "QlyXN9rzuPXt"
      },
      "outputs": [],
      "source": [
        "def matrix_add(A, B):\n",
        "    # Перевіряємо, чи матриці мають однаковий розмір\n",
        "    if A.shape != B.shape:\n",
        "        raise ValueError(\"Матриці мають різні розміри, додавання неможливе.\")\n",
        "\n",
        "    # Додаємо матриці\n",
        "    res = A + B\n",
        "    return res"
      ]
    },
    {
      "cell_type": "code",
      "execution_count": null,
      "metadata": {
        "colab": {
          "base_uri": "https://localhost:8080/"
        },
        "id": "V1d_dmeiSNBn",
        "outputId": "c940f7d3-aff1-47f0-e84a-31d75bee9493"
      },
      "outputs": [
        {
          "name": "stdout",
          "output_type": "stream",
          "text": [
            "Виберіть операцію (додавання, добуток, добуток_число): добуток_число\n",
            "Введіть число для множення: 2\n",
            "Результат:\n",
            "[[ 2.  6. -2.]\n",
            " [ 0.  2. -2.]\n",
            " [ 2.  2.  4.]]\n"
          ]
        }
      ],
      "source": [
        "import pandas as pd\n",
        "def get_matrix_eval(file_path1, file_path2):\n",
        "    matrix1 = pd.read_csv(file_path1, header=None).values\n",
        "    matrix2 = pd.read_csv(file_path2, header=None).values\n",
        "\n",
        "    operation = input(\"Виберіть операцію (додавання, добуток, добуток_число): \")\n",
        "\n",
        "    if operation == 'додавання':\n",
        "        result = matrix_add(matrix1, matrix2)\n",
        "    elif operation == 'добуток':\n",
        "        result = matrix_mul(matrix1, matrix2)\n",
        "    elif operation == 'добуток_число':\n",
        "        coef = float(input(\"Введіть число для множення: \"))\n",
        "        result = coef * matrix1\n",
        "    else:\n",
        "        result = None\n",
        "        print(\"Неправильна операція!\")\n",
        "\n",
        "    return result\n",
        "\n",
        "# Приклад використання:\n",
        "res = get_matrix_eval('matrixA.csv', 'matrixB.csv')\n",
        "\n",
        "if res is not None:\n",
        "    print(\"Результат:\")\n",
        "    print(res)"
      ]
    },
    {
      "cell_type": "markdown",
      "metadata": {
        "id": "CACBsGuqf_r2"
      },
      "source": [
        "## Добуток матриць\n",
        "$A = \\begin{pmatrix}\n",
        "−2& −3 &1 \\\\\n",
        "0 &1& 4\\\\\n",
        "2& −2& 0\\end{pmatrix}$.  \n",
        "\n",
        "$B = \\begin{pmatrix}\n",
        "−2 &6& −2\\\\\n",
        "7 &0& 3\\\\\n",
        "−1& 3& 9\\end{pmatrix}$.  \n",
        "\n",
        "$C = \\begin{pmatrix}\n",
        "0 &3& −2\\\\\n",
        "0 &3 &1\\\\\n",
        "3 &4 &−3\\\\\n",
        "\\end{pmatrix}$.  \n",
        "\n",
        "\n",
        "$D = \\begin{pmatrix}\n",
        "2 &−3& 1\\\\\n",
        "−5& 3& 2\\\\\n",
        "2& 0& 7 \\end{pmatrix}$.  \n",
        "\n",
        "**Завдання**\n",
        "\n",
        "Виконайте обрахунки: $AB, CD, AC, BD$\n",
        "\n",
        "**Додаткове завдання:**\n",
        "1. Напишіть програму, яка генерує приклади на тренування обрахування добутку матриць.\n",
        "2. Допрацюйте програму так, щоб вона приймала рішення, їх перевіряла та фіксувала швидкість виконання людиною операції із множення матриць."
      ]
    },
    {
      "cell_type": "markdown",
      "metadata": {
        "id": "3jQB3yETvyI_"
      },
      "source": [
        "1"
      ]
    },
    {
      "cell_type": "code",
      "execution_count": null,
      "metadata": {
        "colab": {
          "base_uri": "https://localhost:8080/"
        },
        "id": "ujIrEQo7vGQk",
        "outputId": "9bab2bc3-790d-4b27-c63d-22469f990daa"
      },
      "outputs": [
        {
          "name": "stdout",
          "output_type": "stream",
          "text": [
            "Example #1:\n",
            "Matrix 1:\n",
            "[[3 8 5]\n",
            " [3 3 9]\n",
            " [7 9 8]]\n",
            "Matrix 2:\n",
            "[[2 7 8]\n",
            " [7 9 5]\n",
            " [1 9 5]]\n",
            "Expected product:\n",
            "[[ 67 138  89]\n",
            " [ 36 129  84]\n",
            " [ 85 202 141]]\n",
            "\n",
            "Example #2:\n",
            "Matrix 1:\n",
            "[[8 4 7]\n",
            " [8 9 5]\n",
            " [9 4 6]]\n",
            "Matrix 2:\n",
            "[[8 4 4]\n",
            " [7 4 4]\n",
            " [2 3 4]]\n",
            "Expected product:\n",
            "[[106  69  76]\n",
            " [137  83  88]\n",
            " [112  70  76]]\n",
            "\n",
            "Example #3:\n",
            "Matrix 1:\n",
            "[[7 1 3]\n",
            " [3 9 3]\n",
            " [7 6 1]]\n",
            "Matrix 2:\n",
            "[[2 7 9]\n",
            " [7 9 5]\n",
            " [3 3 9]]\n",
            "Expected product:\n",
            "[[ 30  67  95]\n",
            " [ 78 111  99]\n",
            " [ 59 106 102]]\n",
            "\n",
            "Example #4:\n",
            "Matrix 1:\n",
            "[[4 5 5]\n",
            " [5 7 5]\n",
            " [5 8 6]]\n",
            "Matrix 2:\n",
            "[[2 8 8]\n",
            " [3 1 5]\n",
            " [5 4 4]]\n",
            "Expected product:\n",
            "[[ 48  57  77]\n",
            " [ 56  67  95]\n",
            " [ 64  72 104]]\n",
            "\n",
            "Example #5:\n",
            "Matrix 1:\n",
            "[[8 2 7]\n",
            " [9 2 1]\n",
            " [6 5 9]]\n",
            "Matrix 2:\n",
            "[[2 4 3]\n",
            " [9 4 7]\n",
            " [8 8 8]]\n",
            "Expected product:\n",
            "[[ 90  96  94]\n",
            " [ 44  52  49]\n",
            " [129 116 125]]\n",
            "\n"
          ]
        }
      ],
      "source": [
        "import numpy as np\n",
        "\n",
        "def generate_matrix_multiplication_examples(num_examples, matrix_size):\n",
        "    examples = []\n",
        "\n",
        "    for _ in range(num_examples):\n",
        "        matrix1 = np.random.randint(1, 10, size=(matrix_size, matrix_size))\n",
        "        matrix2 = np.random.randint(1, 10, size=(matrix_size, matrix_size))\n",
        "        product = np.dot(matrix1, matrix2)\n",
        "        examples.append((matrix1, matrix2, product))\n",
        "\n",
        "    return examples\n",
        "\n",
        "# Example usage:\n",
        "examples = generate_matrix_multiplication_examples(5, 3)\n",
        "for i, (matrix1, matrix2, product) in enumerate(examples, 1):\n",
        "    print(f\"Example #{i}:\")\n",
        "    print(f\"Matrix 1:\\n{matrix1}\")\n",
        "    print(f\"Matrix 2:\\n{matrix2}\")\n",
        "    print(f\"Expected product:\\n{product}\\n\")\n"
      ]
    },
    {
      "cell_type": "markdown",
      "metadata": {
        "id": "18vvcswOv0TF"
      },
      "source": [
        "2"
      ]
    },
    {
      "cell_type": "code",
      "execution_count": null,
      "metadata": {
        "colab": {
          "base_uri": "https://localhost:8080/"
        },
        "id": "6uPM_1SXv0-m",
        "outputId": "c0c5c67e-9409-4651-f59e-6496cb42d9f8"
      },
      "outputs": [
        {
          "name": "stdout",
          "output_type": "stream",
          "text": [
            "Solve the matrix multiplication:\n",
            "\n",
            "Matrix 1:\n",
            "[[8 2 4]\n",
            " [7 4 3]\n",
            " [7 8 5]]\n",
            "\n",
            "Matrix 2:\n",
            "[[2 8 4]\n",
            " [3 1 1]\n",
            " [9 1 1]]\n",
            "\n",
            "Enter your solution for the product matrix (comma-separated row values): 58, 70, 38, 53, 63, 35, 83, 69, 41\n",
            "\n",
            "Correct! It took you 154.94 seconds.\n"
          ]
        }
      ],
      "source": [
        "import numpy as np\n",
        "import time\n",
        "\n",
        "def generate_matrix_multiplication_example(matrix_size):\n",
        "    matrix1 = np.random.randint(1, 10, size=(matrix_size, matrix_size))\n",
        "    matrix2 = np.random.randint(1, 10, size=(matrix_size, matrix_size))\n",
        "    product = np.dot(matrix1, matrix2)\n",
        "\n",
        "    # Display the matrices and prompt the user to solve\n",
        "    print(f\"Solve the matrix multiplication:\\n\")\n",
        "    print(f\"Matrix 1:\\n{matrix1}\\n\")\n",
        "    print(f\"Matrix 2:\\n{matrix2}\\n\")\n",
        "\n",
        "    # Record the start time\n",
        "    start_time = time.time()\n",
        "\n",
        "    # Prompt user for the solution\n",
        "    user_solution = input(f\"Enter your solution for the product matrix (comma-separated row values): \")\n",
        "    user_solution = np.array(list(map(int, user_solution.split(',')))).reshape(matrix_size, matrix_size)\n",
        "\n",
        "    # Record the end time\n",
        "    end_time = time.time()\n",
        "\n",
        "    # Check if the user's solution is correct\n",
        "    if np.array_equal(user_solution, product):\n",
        "        print(f\"\\nCorrect! It took you {end_time - start_time:.2f} seconds.\")\n",
        "    else:\n",
        "        print(f\"\\nIncorrect. The correct product matrix is:\\n{product}\")\n",
        "\n",
        "# Example usage:\n",
        "generate_matrix_multiplication_example(3)\n"
      ]
    }
  ],
  "metadata": {
    "colab": {
      "provenance": []
    },
    "kernelspec": {
      "display_name": "Python 3",
      "name": "python3"
    },
    "language_info": {
      "codemirror_mode": {
        "name": "ipython",
        "version": 3
      },
      "file_extension": ".py",
      "mimetype": "text/x-python",
      "name": "python",
      "nbconvert_exporter": "python",
      "pygments_lexer": "ipython3",
      "version": "3.12.3"
    }
  },
  "nbformat": 4,
  "nbformat_minor": 0
}
